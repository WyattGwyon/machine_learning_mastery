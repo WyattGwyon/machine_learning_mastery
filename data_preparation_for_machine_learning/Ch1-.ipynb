{
 "cells": [
  {
   "cell_type": "markdown",
   "id": "5706bb35-a928-4136-ba95-e55280a1bb9e",
   "metadata": {},
   "source": [
    "# Chapter 1 - Data Preparation in a Machine Learning Project\n",
    "- Data Preparation means exposing the unknown underlying structure of the problem\n",
    "\n",
    "## Applied Machine Learning Process\n",
    "\"the right features can only be defined in the contxt of both the model and the data; since data and models are so diverse, it's difficult to generalize the practice of feature engineering across projects\" - Feature Engineering for Machine Leanring 2018 Alice Zheng\n",
    "\n",
    "You must establish a baseline in performance as a point of reference\n",
    "\n",
    "The steps on the path are the same from project to project and are known as:\n",
    "- knowledge discovery in applied machine learning process\n",
    "- data science process\n",
    "- or the older name, knowledge discovery in databases (KDD)\n",
    "\n",
    "\n",
    "**Step1:** Define the Problem\n",
    "<br>**Step2:** Prepare the Data\n",
    "<br>**Step3:** Evaluate Models\n",
    "<br>**Step4:** Finalize Model\n",
    "\n",
    "\n",
    "\n",
    "\n",
    "### **Step1:** Define the Problem\n",
    "You need to learn enough about the problem to select the framing or framings of the prediction task. (is is classification or regression or some other problem?)\n",
    "Maybe you need to talk to stakeholders and share summary statistics and data visualizations.\n",
    " \n",
    "### **Step2:** Prepare Data\n",
    "transforming the raw data into a form that can be used in modeling involves the addition, deletion, or transformation of training set data\n",
    "\n",
    "### **Step3:** Evaluate Models\n",
    "evaluate ml models requires that you design a robust test harness so that your results can be trusted and used to select among the models.\n",
    "You must select a metric for evaluating the skill of a model to establish a baseline (floor) in performance. Also you must choose how to resample a split your data.\n",
    "\n",
    "Quick and dirty or large data evaluations you can single split into train/test.\n",
    "\n",
    "Often K-fold cross validation is a common data resampling technique \n",
    "\n",
    "You will also perform hyperparameter tuning and ensembles of models.\n",
    "\n",
    "### **Step4:** Finalize Model\n",
    "Select the final model that represents the solution to the problem.\n",
    "Evaluate the hold out validations set.\n",
    "Summarize the data for stakeholders.\n",
    "Prepare the model for production such as integrating it into software.\n",
    "Set up performance maintnenance and monitoring."
   ]
  },
  {
   "cell_type": "code",
   "execution_count": null,
   "id": "4d238a4f-81aa-4c63-a607-88087bc8bcee",
   "metadata": {},
   "outputs": [],
   "source": []
  }
 ],
 "metadata": {
  "kernelspec": {
   "display_name": "machine_learning_mastery",
   "language": "python",
   "name": "machine_learning_mastery"
  },
  "language_info": {
   "codemirror_mode": {
    "name": "ipython",
    "version": 3
   },
   "file_extension": ".py",
   "mimetype": "text/x-python",
   "name": "python",
   "nbconvert_exporter": "python",
   "pygments_lexer": "ipython3",
   "version": "3.9.8"
  }
 },
 "nbformat": 4,
 "nbformat_minor": 5
}
