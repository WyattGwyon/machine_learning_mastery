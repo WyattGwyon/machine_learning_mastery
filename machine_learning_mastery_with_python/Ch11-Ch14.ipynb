{
 "cells": [
  {
   "cell_type": "markdown",
   "id": "719cd919-6d9a-4616-93ca-35ae269ea7eb",
   "metadata": {},
   "source": [
    "# Chapter 11 - Spot-Check Classification Algorithms\n",
    "- A way to discover which algorithms perform well\n",
    "- You must trial a number of methods and focus attention on those that prove themselves\n",
    "\n",
    "### Algorithm Spot Checking\n",
    "What algorithms should I spotcheck on my dataset?\n",
    "- mixture of algorithm representatins (instances and trees)\n",
    "- mixture of learning algorithms\n",
    "- mixture of modeling types (linear and nonlinear or parametric and nonparametric)\n",
    "\n",
    "### Algorithm Overview\n",
    "\n",
    "2 types of linear machine learning algorithms\n",
    "- Logistic Regression\n",
    "- Linear Discriminant Analysis\n",
    "\n",
    "4 types of nonlinear machine learning algorithms\n",
    "- k-Nearest Neighbors\n",
    "- Naive Bayes\n",
    "- Classification and Regression Tress\n",
    "- Support Vector Machines\n",
    "\n",
    "## Linear ML ALgorithms\n",
    "### Logistic Regression\n",
    "- assumes gaussian distribution of numeric input and can model binary classification\n",
    "\n",
    "http://scikit-learn.org/stable/modules/generated/sklearn.linear_model.LogisticRegression.html"
   ]
  },
  {
   "cell_type": "code",
   "execution_count": 1,
   "id": "3c0e3060-11ef-47f6-97ad-35bb2070635f",
   "metadata": {},
   "outputs": [],
   "source": [
    "# Logistic Regression Classification\n",
    "from pandas import read_csv\n",
    "from sklearn.model_selection import KFold\n",
    "from sklearn.model_selection import cross_val_score\n",
    "from sklearn.linear_model import LogisticRegression\n",
    "filename = 'pima-indians-diabetes.data.csv'\n",
    "names = ['preg', 'plas', 'pres', 'skin', 'test', 'mass', 'pedi', 'age', 'class'] \n",
    "dataframe = read_csv(filename, names=names)\n",
    "array = dataframe.values\n",
    "X = array[:,0:8]\n",
    "Y = array[:,8]"
   ]
  },
  {
   "cell_type": "code",
   "execution_count": 4,
   "id": "9b43e7ff-0eef-449f-8d5a-34bcc6fa773e",
   "metadata": {},
   "outputs": [
    {
     "name": "stdout",
     "output_type": "stream",
     "text": [
      "0.7708646616541353\n"
     ]
    }
   ],
   "source": [
    "kfold = KFold(n_splits=10, random_state=7, shuffle=True)\n",
    "model = LogisticRegression(solver='liblinear')\n",
    "results = cross_val_score(model,X,Y,cv=kfold)\n",
    "print(results.mean())"
   ]
  },
  {
   "cell_type": "markdown",
   "id": "be30af13-9b26-40cf-9c25-8741ca5ed0af",
   "metadata": {},
   "source": [
    "Closer to 1 is better\n",
    "\n",
    "### Linear Discriminant Analysis (LDA)\n",
    "- binary and mulitclass classifications \n",
    "- assumes gaussian distribution\n",
    "\n",
    "http://scikit-learn.org/stable/modules/generated/sklearn.discriminant_analysis.LinearDiscriminantAnalysis.html"
   ]
  },
  {
   "cell_type": "code",
   "execution_count": 7,
   "id": "b644ec22-d952-4ab3-ad74-60147784c85d",
   "metadata": {},
   "outputs": [
    {
     "name": "stdout",
     "output_type": "stream",
     "text": [
      "0.7669685577580315\n"
     ]
    }
   ],
   "source": [
    "from sklearn.discriminant_analysis import LinearDiscriminantAnalysis\n",
    "\n",
    "model = LinearDiscriminantAnalysis()\n",
    "results = cross_val_score(model, X, Y, cv=kfold)\n",
    "print(results.mean())"
   ]
  },
  {
   "cell_type": "markdown",
   "id": "5f0f0f6a-07d1-4f7a-b4aa-613cb9c91c4a",
   "metadata": {},
   "source": [
    "## Nonlinear ML Algorithms\n",
    "### K-Nearest Neighbors (KNN)\n",
    "- distance metricto find the k most similar instances in the training data for a new instance\n",
    "\n",
    "http://scikit-learn.org/stable/modules/generated/sklearn.neighbors.KNeighborsClassifier.html"
   ]
  },
  {
   "cell_type": "code",
   "execution_count": 8,
   "id": "4820ca7e-0299-46ba-a35c-2290f23aa3f6",
   "metadata": {},
   "outputs": [
    {
     "name": "stdout",
     "output_type": "stream",
     "text": [
      "0.7109876965140123\n"
     ]
    }
   ],
   "source": [
    "from sklearn.neighbors import KNeighborsClassifier\n",
    "\n",
    "model = KNeighborsClassifier()\n",
    "results = cross_val_score(model, X, Y, cv=kfold)\n",
    "print(results.mean())"
   ]
  },
  {
   "cell_type": "markdown",
   "id": "354a2573-cb2e-4e34-a51a-0271ef49ecdf",
   "metadata": {},
   "source": [
    "### Naive Bayes\n",
    "- the conditional probablity of each class given each input value\n",
    "- Gaussian distribution is assumed\n",
    "\n",
    "http://scikit-learn.org/stable/modules/generated/sklearn.naive_bayes.GaussianNB.html"
   ]
  },
  {
   "cell_type": "code",
   "execution_count": 9,
   "id": "e37da122-f6f8-4782-9ddd-ab2532962f8c",
   "metadata": {},
   "outputs": [
    {
     "name": "stdout",
     "output_type": "stream",
     "text": [
      "0.7109876965140123\n"
     ]
    }
   ],
   "source": [
    "from sklearn.naive_bayes import GaussianNB\n",
    "\n",
    "nodel = GaussianNB()\n",
    "results = cross_val_score(model, X,Y, cv=kfold)\n",
    "print(results.mean())"
   ]
  },
  {
   "cell_type": "markdown",
   "id": "ceef2b12-1cb6-48de-9932-44325223a54a",
   "metadata": {},
   "source": [
    "### Classification and Regression Trees (CART or jsut Decision Trees)\n",
    "http://scikit-learn.org/stable/modules/generated/sklearn.tree.DecisionTreeClassifier.html"
   ]
  },
  {
   "cell_type": "code",
   "execution_count": 11,
   "id": "0df4f14a-131d-4b1f-9d8f-732da1fe270f",
   "metadata": {},
   "outputs": [
    {
     "name": "stdout",
     "output_type": "stream",
     "text": [
      "0.6837320574162679\n"
     ]
    }
   ],
   "source": [
    "from sklearn.tree import DecisionTreeClassifier\n",
    "\n",
    "model = DecisionTreeClassifier()\n",
    "results = cross_val_score(model, X,Y, cv=kfold)\n",
    "print(results.mean())"
   ]
  },
  {
   "cell_type": "markdown",
   "id": "bf0fcdf2-af64-4827-9e59-34b445a545d5",
   "metadata": {},
   "source": [
    "### Support Vector Machines (SVM)\n",
    "- seek a line that best separtes two classes\n",
    "- the data that is closestes to that line are called support vectors and influence where the line is placed.\n",
    "- has been extended to support multiple classes\n",
    "- use of different kernel functions via the kernel parameter (Radial Basis Function is default)\n",
    "\n",
    "http://scikit-learn.org/stable/modules/generated/sklearn.svm.SVC.html"
   ]
  },
  {
   "cell_type": "code",
   "execution_count": 13,
   "id": "0f640f77-12a0-4757-9490-d925308f8bc2",
   "metadata": {},
   "outputs": [
    {
     "name": "stdout",
     "output_type": "stream",
     "text": [
      "0.760457963089542\n"
     ]
    }
   ],
   "source": [
    "from sklearn.svm import SVC\n",
    "model = SVC()\n",
    "results = cross_val_score(model, X,Y,cv=kfold)\n",
    "print(results.mean())"
   ]
  },
  {
   "cell_type": "markdown",
   "id": "71ad93d0-a4e6-4f7c-bda7-9332c0a6c36a",
   "metadata": {},
   "source": [
    "--------\n",
    "# Chapter 12 - Spot Check Classification Algorithms\n"
   ]
  },
  {
   "cell_type": "code",
   "execution_count": null,
   "id": "4264b56e-32dc-429c-bdcc-4c57a7278b05",
   "metadata": {},
   "outputs": [],
   "source": []
  }
 ],
 "metadata": {
  "kernelspec": {
   "display_name": "machine_learning_mastery",
   "language": "python",
   "name": "machine_learning_mastery"
  },
  "language_info": {
   "codemirror_mode": {
    "name": "ipython",
    "version": 3
   },
   "file_extension": ".py",
   "mimetype": "text/x-python",
   "name": "python",
   "nbconvert_exporter": "python",
   "pygments_lexer": "ipython3",
   "version": "3.9.8"
  }
 },
 "nbformat": 4,
 "nbformat_minor": 5
}
