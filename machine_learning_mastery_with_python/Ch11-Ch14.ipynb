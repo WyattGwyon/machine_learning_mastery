{
 "cells": [
  {
   "cell_type": "markdown",
   "id": "719cd919-6d9a-4616-93ca-35ae269ea7eb",
   "metadata": {},
   "source": [
    "# Chapter 11 - Spot-Check Classification Algorithms\n",
    "- A way to discover which algorithms perform well\n",
    "- You must trial a number of methods and focus attention on those that prove themselves\n",
    "\n",
    "### Algorithm Spot Checking\n",
    "What algorithms should I spotcheck on my dataset?\n",
    "- mixture of algorithm representatins (instances and trees)\n",
    "- mixture of learning algorithms\n",
    "- mixture of modeling types (linear and nonlinear or parametric and nonparametric)\n",
    "\n",
    "### Algorithm Overview\n",
    "\n",
    "2 types of linear machine learning algorithms\n",
    "- Logistic Regression\n",
    "- Linear Discriminant Analysis\n",
    "\n",
    "4 types of nonlinear machine learning algorithms\n",
    "- k-Nearest Neighbors\n",
    "- Naive Bayes\n",
    "- Classification and Regression Tress\n",
    "- Support Vector Machines\n",
    "\n",
    "## Linear ML ALgorithms\n",
    "### Logistic Regression\n",
    "- assumes gaussian distribution of numeric input and can model binary classification\n",
    "\n",
    "http://scikit-learn.org/stable/modules/generated/sklearn.linear_model.LogisticRegression.html"
   ]
  },
  {
   "cell_type": "code",
   "execution_count": 1,
   "id": "3c0e3060-11ef-47f6-97ad-35bb2070635f",
   "metadata": {},
   "outputs": [],
   "source": [
    "# Logistic Regression Classification\n",
    "from pandas import read_csv\n",
    "from sklearn.model_selection import KFold\n",
    "from sklearn.model_selection import cross_val_score\n",
    "from sklearn.linear_model import LogisticRegression\n",
    "filename = 'pima-indians-diabetes.data.csv'\n",
    "names = ['preg', 'plas', 'pres', 'skin', 'test', 'mass', 'pedi', 'age', 'class'] \n",
    "dataframe = read_csv(filename, names=names)\n",
    "array = dataframe.values\n",
    "X = array[:,0:8]\n",
    "Y = array[:,8]"
   ]
  },
  {
   "cell_type": "code",
   "execution_count": 4,
   "id": "9b43e7ff-0eef-449f-8d5a-34bcc6fa773e",
   "metadata": {},
   "outputs": [
    {
     "name": "stdout",
     "output_type": "stream",
     "text": [
      "0.7708646616541353\n"
     ]
    }
   ],
   "source": [
    "kfold = KFold(n_splits=10, random_state=7, shuffle=True)\n",
    "model = LogisticRegression(solver='liblinear')\n",
    "results = cross_val_score(model,X,Y,cv=kfold)\n",
    "print(results.mean())"
   ]
  },
  {
   "cell_type": "markdown",
   "id": "be30af13-9b26-40cf-9c25-8741ca5ed0af",
   "metadata": {},
   "source": [
    "Closer to 1 is better\n",
    "\n",
    "### Linear Discriminant Analysis (LDA)\n",
    "- binary and mulitclass classifications \n",
    "- assumes gaussian distribution\n",
    "\n",
    "http://scikit-learn.org/stable/modules/generated/sklearn.discriminant_analysis.LinearDiscriminantAnalysis.html"
   ]
  },
  {
   "cell_type": "code",
   "execution_count": 7,
   "id": "b644ec22-d952-4ab3-ad74-60147784c85d",
   "metadata": {},
   "outputs": [
    {
     "name": "stdout",
     "output_type": "stream",
     "text": [
      "0.7669685577580315\n"
     ]
    }
   ],
   "source": [
    "from sklearn.discriminant_analysis import LinearDiscriminantAnalysis\n",
    "\n",
    "model = LinearDiscriminantAnalysis()\n",
    "results = cross_val_score(model, X, Y, cv=kfold)\n",
    "print(results.mean())"
   ]
  },
  {
   "cell_type": "markdown",
   "id": "5f0f0f6a-07d1-4f7a-b4aa-613cb9c91c4a",
   "metadata": {},
   "source": [
    "## Nonlinear ML Algorithms\n",
    "### K-Nearest Neighbors (KNN)\n",
    "- distance metricto find the k most similar instances in the training data for a new instance\n",
    "\n",
    "http://scikit-learn.org/stable/modules/generated/sklearn.neighbors.KNeighborsClassifier.html"
   ]
  },
  {
   "cell_type": "code",
   "execution_count": 8,
   "id": "4820ca7e-0299-46ba-a35c-2290f23aa3f6",
   "metadata": {},
   "outputs": [
    {
     "name": "stdout",
     "output_type": "stream",
     "text": [
      "0.7109876965140123\n"
     ]
    }
   ],
   "source": [
    "from sklearn.neighbors import KNeighborsClassifier\n",
    "\n",
    "model = KNeighborsClassifier()\n",
    "results = cross_val_score(model, X, Y, cv=kfold)\n",
    "print(results.mean())"
   ]
  },
  {
   "cell_type": "markdown",
   "id": "354a2573-cb2e-4e34-a51a-0271ef49ecdf",
   "metadata": {},
   "source": [
    "### Naive Bayes\n",
    "- the conditional probablity of each class given each input value\n",
    "- Gaussian distribution is assumed\n",
    "\n",
    "http://scikit-learn.org/stable/modules/generated/sklearn.naive_bayes.GaussianNB.html"
   ]
  },
  {
   "cell_type": "code",
   "execution_count": 9,
   "id": "e37da122-f6f8-4782-9ddd-ab2532962f8c",
   "metadata": {},
   "outputs": [
    {
     "name": "stdout",
     "output_type": "stream",
     "text": [
      "0.7109876965140123\n"
     ]
    }
   ],
   "source": [
    "from sklearn.naive_bayes import GaussianNB\n",
    "\n",
    "nodel = GaussianNB()\n",
    "results = cross_val_score(model, X,Y, cv=kfold)\n",
    "print(results.mean())"
   ]
  },
  {
   "cell_type": "markdown",
   "id": "ceef2b12-1cb6-48de-9932-44325223a54a",
   "metadata": {},
   "source": [
    "### Classification and Regression Trees (CART or jsut Decision Trees)\n",
    "http://scikit-learn.org/stable/modules/generated/sklearn.tree.DecisionTreeClassifier.html"
   ]
  },
  {
   "cell_type": "code",
   "execution_count": 11,
   "id": "0df4f14a-131d-4b1f-9d8f-732da1fe270f",
   "metadata": {},
   "outputs": [
    {
     "name": "stdout",
     "output_type": "stream",
     "text": [
      "0.6837320574162679\n"
     ]
    }
   ],
   "source": [
    "from sklearn.tree import DecisionTreeClassifier\n",
    "\n",
    "model = DecisionTreeClassifier()\n",
    "results = cross_val_score(model, X,Y, cv=kfold)\n",
    "print(results.mean())"
   ]
  },
  {
   "cell_type": "markdown",
   "id": "bf0fcdf2-af64-4827-9e59-34b445a545d5",
   "metadata": {},
   "source": [
    "### Support Vector Machines (SVM)\n",
    "- seek a line that best separtes two classes\n",
    "- the data that is closestes to that line are called support vectors and influence where the line is placed.\n",
    "- has been extended to support multiple classes\n",
    "- use of different kernel functions via the kernel parameter (Radial Basis Function is default)\n",
    "\n",
    "http://scikit-learn.org/stable/modules/generated/sklearn.svm.SVC.html"
   ]
  },
  {
   "cell_type": "code",
   "execution_count": 13,
   "id": "0f640f77-12a0-4757-9490-d925308f8bc2",
   "metadata": {},
   "outputs": [
    {
     "name": "stdout",
     "output_type": "stream",
     "text": [
      "0.760457963089542\n"
     ]
    }
   ],
   "source": [
    "from sklearn.svm import SVC\n",
    "model = SVC()\n",
    "results = cross_val_score(model, X,Y,cv=kfold)\n",
    "print(results.mean())"
   ]
  },
  {
   "cell_type": "markdown",
   "id": "71ad93d0-a4e6-4f7c-bda7-9332c0a6c36a",
   "metadata": {},
   "source": [
    "--------\n",
    "# Chapter 12 - Spot Check Regression Algorithms\n",
    "\n",
    "4 linear ML algorithms\n",
    "- Linear Regression\n",
    "- Ridge Regression\n",
    "- LASSO Linear Regression\n",
    "- Elastic Net Regression\n",
    "\n",
    "3 nonlinear ML algorithms\n",
    "- k-Nearest Neighbors\n",
    "- Classification And Regression Tree\n",
    "- Support Vector Machines\n",
    "\n",
    "### Linear Regression\n",
    "- Assumes Gaussian distribution\n",
    "\n",
    "http://scikit-learn.org/stable/modules/generated/sklearn.linear_model.LinearRegression.html"
   ]
  },
  {
   "cell_type": "code",
   "execution_count": 18,
   "id": "4264b56e-32dc-429c-bdcc-4c57a7278b05",
   "metadata": {},
   "outputs": [],
   "source": [
    "from pandas import read_csv\n",
    "from sklearn.model_selection import KFold\n",
    "from sklearn.model_selection import cross_val_score\n",
    "from sklearn.linear_model import LinearRegression\n",
    "\n",
    "filename = 'housing.csv'\n",
    "names = ['CRIM', 'ZN', 'INDUS', 'CHAS', 'NOX', 'RM', 'AGE', 'DIS', 'RAD', 'TAX', 'PTRATIO',\n",
    "'B', 'LSTAT', 'MEDV']\n",
    "\n",
    "dataframe = read_csv(filename, sep='\\s+', names=names)"
   ]
  },
  {
   "cell_type": "code",
   "execution_count": 19,
   "id": "27e93cb9-e898-4186-b7c1-2a26319de57a",
   "metadata": {},
   "outputs": [],
   "source": [
    "array = dataframe.values\n",
    "X = array[:,0:13]\n",
    "Y = array[:,13]"
   ]
  },
  {
   "cell_type": "code",
   "execution_count": 21,
   "id": "7c56b260-3091-4df7-bdb3-fd3ae6763a1a",
   "metadata": {},
   "outputs": [
    {
     "name": "stdout",
     "output_type": "stream",
     "text": [
      "-23.746501811313365\n"
     ]
    }
   ],
   "source": [
    "kfold = KFold(n_splits=10, random_state=7, shuffle=True)\n",
    "model = LinearRegression()\n",
    "scoring = 'neg_mean_squared_error'\n",
    "results = cross_val_score(model,X,Y,cv=kfold, scoring=scoring)\n",
    "print(results.mean())"
   ]
  },
  {
   "cell_type": "markdown",
   "id": "3c915196-ca0d-4b56-99da-c822d0c32859",
   "metadata": {},
   "source": [
    "### Ridge Regression\n",
    "- an extension of linear regression wher the loss function is modified to minimize the complexity of the model measured as sum squared values of the coefficient values (aka L2-norm)\n",
    "\n",
    "http://scikit-learn.org/stable/modules/generated/sklearn.linear_model.Ridge.html"
   ]
  },
  {
   "cell_type": "code",
   "execution_count": 23,
   "id": "8efaf4a8-fd2d-407f-9829-c86e5a3fb308",
   "metadata": {},
   "outputs": [
    {
     "name": "stdout",
     "output_type": "stream",
     "text": [
      "-23.88989018505344\n"
     ]
    }
   ],
   "source": [
    "from sklearn.linear_model import Ridge\n",
    "\n",
    "model = Ridge()\n",
    "scoring = 'neg_mean_squared_error'\n",
    "results = cross_val_score(model, X, Y, cv=kfold, scoring=scoring)\n",
    "print(results.mean())"
   ]
  },
  {
   "cell_type": "markdown",
   "id": "fe8df3c5-c99f-4824-a1ac-b3e39f99921d",
   "metadata": {},
   "source": [
    "### LASSO Regression\n",
    "- Least Absolute Shrinkage and Selection Operator is a modification of linear regression where the loss function is modified to minimize the complexity of the model measured as the su absolute value of the coefficient values (L1-norm)\n",
    "\n",
    "http://scikit-learn.org/stable/modules/generated/sklearn.linear_model.Lasso.html"
   ]
  },
  {
   "cell_type": "code",
   "execution_count": 26,
   "id": "116f7429-153b-469b-8f61-455b1b0d6667",
   "metadata": {},
   "outputs": [
    {
     "name": "stdout",
     "output_type": "stream",
     "text": [
      "-28.74589007585154\n"
     ]
    }
   ],
   "source": [
    "from sklearn.linear_model import Lasso\n",
    "\n",
    "model = Lasso()\n",
    "scoring = 'neg_mean_squared_error'\n",
    "results = cross_val_score(model, X, Y , cv=kfold, scoring=scoring)\n",
    "print(results.mean())"
   ]
  },
  {
   "cell_type": "markdown",
   "id": "3672a1b4-d95d-436b-b797-2af42b64d331",
   "metadata": {},
   "source": [
    "### ElasticNet Regression\n",
    "- combines Ridge Regression and LASSO Regression L2-norm \n",
    "- It seeks to reduce the magnitude and number of regression coefficeints by using both (sum squared coefficient values) and L1-norm (sum absolute coefficeint values)\n",
    "\n",
    "http://scikit-learn.org/stable/modules/generated/sklearn.linear_model.ElasticNet.html"
   ]
  },
  {
   "cell_type": "code",
   "execution_count": 27,
   "id": "5d377207-f88d-4204-b727-d3fbc938b00b",
   "metadata": {},
   "outputs": [
    {
     "name": "stdout",
     "output_type": "stream",
     "text": [
      "-27.908420360231055\n"
     ]
    }
   ],
   "source": [
    "from sklearn.linear_model import ElasticNet\n",
    "\n",
    "model = ElasticNet()\n",
    "scoring = 'neg_mean_squared_error'\n",
    "results = cross_val_score(model, X, Y , cv=kfold, scoring=scoring)\n",
    "print(results.mean())"
   ]
  },
  {
   "cell_type": "markdown",
   "id": "27b46bd1-409d-4052-a4c5-06e11cf8ab6b",
   "metadata": {},
   "source": [
    "## Nonlinear ML Algorithms\n",
    "### K-Nearest Neighbors\n",
    "- Minkowski distance is used by default which is a generalizationof both Euclidean distance when all inputs have the same scale and Manhattan distance used when scales of input variables differ.\n",
    "\n",
    "http://scikit-learn.org/stable/modules/generated/sklearn.neighbors.KNeighborsRegressor.html"
   ]
  },
  {
   "cell_type": "code",
   "execution_count": 33,
   "id": "68cf0976-e546-4c4e-9df5-3f3dd257f545",
   "metadata": {},
   "outputs": [
    {
     "name": "stdout",
     "output_type": "stream",
     "text": [
      "-38.852320266666666\n"
     ]
    }
   ],
   "source": [
    "from sklearn.neighbors import KNeighborsRegressor\n",
    "\n",
    "kfold = KFold(n_splits=10, random_state=7, shuffle=True)\n",
    "model = KNeighborsRegressor()\n",
    "scoring = 'neg_mean_squared_error'\n",
    "results = cross_val_score(model, X, Y, cv=kfold, scoring=scoring) \n",
    "print(results.mean())"
   ]
  },
  {
   "cell_type": "markdown",
   "id": "925f460b-9c85-46c0-a7b0-d62440145112",
   "metadata": {},
   "source": [
    "### Classification and Regression Trees (CART)\n",
    "\n",
    "http://scikit-learn.org/stable/modules/generated/sklearn.tree.DecisionTreeRegressor.html"
   ]
  },
  {
   "cell_type": "code",
   "execution_count": 34,
   "id": "8ab223e0-ab62-4390-bfbc-4bd0fecb0938",
   "metadata": {},
   "outputs": [
    {
     "name": "stdout",
     "output_type": "stream",
     "text": [
      "-20.24063411764706\n"
     ]
    }
   ],
   "source": [
    "from sklearn.tree import DecisionTreeRegressor\n",
    "\n",
    "model = DecisionTreeRegressor()\n",
    "scoring = 'neg_mean_squared_error'\n",
    "results = cross_val_score(model, X, Y, cv=kfold, scoring=scoring) \n",
    "print(results.mean())\n"
   ]
  },
  {
   "cell_type": "markdown",
   "id": "9df62b5b-1bb4-4bb2-9397-28933e27c218",
   "metadata": {},
   "source": [
    "### Support Vector Machines\n",
    "\n",
    "http://scikit-learn.org/stable/modules/generated/sklearn.svm.SVR.html"
   ]
  },
  {
   "cell_type": "code",
   "execution_count": 36,
   "id": "d7ddf410-cf56-4e02-8490-801436b14e28",
   "metadata": {},
   "outputs": [
    {
     "name": "stdout",
     "output_type": "stream",
     "text": [
      "-83.73272794073159\n"
     ]
    }
   ],
   "source": [
    "from sklearn.svm import SVR\n",
    "\n",
    "kfold = KFold(n_splits=10, random_state=7, shuffle=True)\n",
    "model = SVR(gamma='auto')\n",
    "scoring = 'neg_mean_squared_error'\n",
    "results = cross_val_score(model, X, Y, cv=kfold, scoring=scoring) \n",
    "print(results.mean())"
   ]
  },
  {
   "cell_type": "markdown",
   "id": "4d619103-a6d3-4ace-81f6-3e4f1b9e66df",
   "metadata": {},
   "source": [
    "---------\n",
    "# Chapter 13 - Compare ML Algorithms\n",
    "- You need to build a test harness to comparer differn ML algorithms\n",
    "- There are often multiple good models to choose from. \n",
    "- Using resampling like cross-validation youcan get an estimate for how accurate each model is on unseen data\n",
    "- The same ide of looking at the data with visualisation, we should get a visualition on comparing algorithms \n",
    "\n",
    "Below we compare 6 different algorithms:\n",
    "- Logistic Regression\n",
    "- Linear Discriminant Analysis\n",
    "- k-nearest neighbors\n",
    "- Classification and Regression Trees\n",
    "- naive bayes\n",
    "- Support Vector Machines\n"
   ]
  },
  {
   "cell_type": "code",
   "execution_count": 55,
   "id": "43dd30f8-6d1f-41f0-8741-da3650181cca",
   "metadata": {},
   "outputs": [],
   "source": [
    "filename = 'pima-indians-diabetes.data.csv'\n",
    "names = ['preg', 'plas', 'pres', 'skin', 'test', 'mass', 'pedi', 'age', 'class'] \n",
    "dataframe = read_csv(filename, names=names)\n",
    "array = dataframe.values\n",
    "X = array[:,0:8]\n",
    "Y = array[:,8]"
   ]
  },
  {
   "cell_type": "code",
   "execution_count": 56,
   "id": "2c0fdb2f-dc52-46f4-a52f-4ba4ef7b8736",
   "metadata": {},
   "outputs": [],
   "source": [
    "# Compare Algorithms\n",
    "\n",
    "models = []\n",
    "models.append(('LR', LogisticRegression(solver='liblinear')))\n",
    "models.append(('LDA', LinearDiscriminantAnalysis()))\n",
    "models.append(('KNN', KNeighborsClassifier()))\n",
    "models.append(('CART', DecisionTreeClassifier()))\n",
    "models.append(('NB', GaussianNB()))\n",
    "models.append(('SVM',SVC()))\n"
   ]
  },
  {
   "cell_type": "code",
   "execution_count": 57,
   "id": "a79b1adb-8450-4857-9ff3-9129d9af80f2",
   "metadata": {},
   "outputs": [
    {
     "name": "stdout",
     "output_type": "stream",
     "text": [
      "LR: 0.770865 (0.050905)\n",
      "LDA: 0.766969 (0.047966)\n",
      "KNN: 0.710988 (0.050792)\n",
      "CART: 0.687611 (0.047975)\n",
      "NB: 0.759142 (0.038960)\n",
      "SVM: 0.760458 (0.034712)\n"
     ]
    }
   ],
   "source": [
    "# evaluate each model in turn\n",
    "\n",
    "from sklearn.model_selection import cross_val_score\n",
    "\n",
    "results = []\n",
    "names = []\n",
    "scoring = 'accuracy'\n",
    "for name, model in models:\n",
    "    kfold = KFold(n_splits=10, random_state=7, shuffle=True)\n",
    "    cv_results = cross_val_score(model, X, Y, cv=kfold, scoring=scoring)\n",
    "    results.append(cv_results)\n",
    "    names.append(name)\n",
    "    msg = \"%s: %f (%f)\" % (name, cv_results.mean(), cv_results.std())\n",
    "    print(msg)"
   ]
  },
  {
   "cell_type": "code",
   "execution_count": 58,
   "id": "17890db3-8ddb-4d1b-a399-8b5086f08974",
   "metadata": {},
   "outputs": [
    {
     "data": {
      "image/png": "[encoded data removed]",
      "text/plain": [
       "<Figure size 640x480 with 1 Axes>"
      ]
     },
     "metadata": {},
     "output_type": "display_data"
    }
   ],
   "source": [
    "# boxplot algorithm comparison\n",
    "from matplotlib import pyplot\n",
    "\n",
    "fig = pyplot.figure() \n",
    "fig.suptitle('Algorithm Comparison') \n",
    "ax = fig.add_subplot(111) \n",
    "pyplot.boxplot(results) \n",
    "ax.set_xticklabels(names) \n",
    "pyplot.show()"
   ]
  },
  {
   "cell_type": "markdown",
   "id": "598b9299-44c7-4ef5-9427-c7cb581b6505",
   "metadata": {},
   "source": [
    "-------\n",
    "# Chapter 14 - Automate ML Workflows with Pipelines\n",
    "\n",
    "- minimize data leakage\n",
    "- data preparation\n",
    "- feature extraction\n",
    "\n",
    "\n",
    "- SciKit Learn has built in Pipeline utility\n",
    "- Pipelines allow for a linear sequence of data transforms to be chained together in a modeling process that can be evaluated.\n",
    "\n",
    "http://scikit-learn.org/stable/modules/pipeline.html\n",
    "\n",
    "http://scikit-learn.org/stable/modules/classes.html#module-sklearn.pipeline\n",
    "\n",
    "### Data Prep and Modeling Pipeline\n",
    "\n",
    "- major trap in applied ML is leaking data from your training dataset to your test dataset.\n",
    "- you need straong separating between you training and testing data\n",
    "\n",
    "\n",
    "- In data Prep it is easy to leak knowledge of the whole training dataset to the algorithm\n",
    "- preparing data using Nromaliseation or standarisation on the whole dataset would introduce scale from the test data into the training data.\n",
    "- Pipeplines help you prevent data leakage in you test harness by ensuring that data preparation is constrained to each fold of your cross-validation procedure.\n",
    "\n",
    "\n",
    "1) Standardize the data \n",
    "2) Learn a Linear Discriminant Analysis model\n"
   ]
  },
  {
   "cell_type": "code",
   "execution_count": 62,
   "id": "46e96836-cb8f-4bc4-a2c7-5304ecf31a59",
   "metadata": {},
   "outputs": [],
   "source": [
    "# create pipeline\n",
    "\n",
    "from sklearn.preprocessing import StandardScaler\n",
    "from sklearn.pipeline import Pipeline\n",
    "from sklearn.discriminant_analysis import LinearDiscriminantAnalysis\n",
    "\n",
    "estimators = []\n",
    "estimators.append(('standardize', StandardScaler()))\n",
    "estimators.append(('lda', LinearDiscriminantAnalysis()))\n",
    "model = Pipeline(estimators)\n"
   ]
  },
  {
   "cell_type": "code",
   "execution_count": 63,
   "id": "bc8835a2-f9d2-4b01-bd4b-17f6737ee1f2",
   "metadata": {},
   "outputs": [
    {
     "name": "stdout",
     "output_type": "stream",
     "text": [
      "0.7669685577580315\n"
     ]
    }
   ],
   "source": [
    "# evaluate pipeline\n",
    "kfold = KFold(n_splits=10, random_state=7, shuffle=True)\n",
    "results = cross_val_score(model, X, Y, cv=kfold)\n",
    "print(results.mean())"
   ]
  },
  {
   "cell_type": "markdown",
   "id": "b89153c5-ea14-47a9-86ae-4d57f7c3f665",
   "metadata": {},
   "source": [
    "We create a Python list of steps that is fed into the pipeline\n",
    "<br>The Pipeline is treated as an estimator and is evaluated in its entirety by the k-fold cross_validation\n",
    "\n",
    "### Feature Extraction and Modeling Pipeline\n",
    "- another proceedure that is suseptible to data leakage.\n",
    "- must be restricted to the data in your dataset.\n",
    "- FeatureUnion allows for the results of multiple feature selection and extraction procedures to be combined into a larger dataset on which a model can be trained\n",
    "- all feature extraction and feature union occurs within each fold of the cros-validated procedure\n",
    "\n",
    "\n",
    "1) Feature Extraction with PCA (3 features)\n",
    "2) Feature Extraction with Statistical Selection (6 features)\n",
    "3) feature Union\n",
    "4) Learn a Logistic Regression Model\n"
   ]
  },
  {
   "cell_type": "code",
   "execution_count": 64,
   "id": "556fafec-09b7-4709-b9b5-55a547455a28",
   "metadata": {},
   "outputs": [],
   "source": [
    "from sklearn.pipeline import FeatureUnion\n",
    "from sklearn.decomposition import PCA\n",
    "from sklearn.feature_selection import SelectKBest"
   ]
  },
  {
   "cell_type": "code",
   "execution_count": 66,
   "id": "a54e2316-1c40-4596-9ce3-956deab6640f",
   "metadata": {},
   "outputs": [],
   "source": [
    "# create feature union\n",
    "features = []\n",
    "features.append(('pca', PCA(n_components=3)))\n",
    "features.append(('select_best', SelectKBest(k=6)))\n",
    "feature_union = FeatureUnion(features)\n"
   ]
  },
  {
   "cell_type": "code",
   "execution_count": 67,
   "id": "7a2bb54f-4a36-4d90-bec9-ecb3a7da586a",
   "metadata": {},
   "outputs": [],
   "source": [
    "# create pipeline\n",
    "estimators = []\n",
    "estimators.append(('feature_union', feature_union))\n",
    "estimators.append(('logistic', LogisticRegression(solver='liblinear')))\n",
    "model = Pipeline(estimators)"
   ]
  },
  {
   "cell_type": "code",
   "execution_count": 69,
   "id": "2418fdd9-1e79-4d8f-b861-3648e2698f58",
   "metadata": {},
   "outputs": [
    {
     "name": "stdout",
     "output_type": "stream",
     "text": [
      "0.7721633629528366\n"
     ]
    }
   ],
   "source": [
    "# evaluate pipline\n",
    "kfold = KFold(n_splits=10, random_state=7, shuffle=True)\n",
    "results = cross_val_score(model,X,Y,cv=kfold)\n",
    "print(results.mean())"
   ]
  },
  {
   "cell_type": "markdown",
   "id": "d4a14b34-1244-41c3-9842-b2ec1877dd48",
   "metadata": {},
   "source": [
    "The FeatureUnion is its own Pipeline that in turn is a single step in the final Pipeline\n",
    "\n",
    "<br> We saw 2 important use cases Pipelines:\n",
    "- Data Preparation and modeling constrained to each fold\n",
    "- feature extraction and feature union constrained to each fold\n"
   ]
  },
  {
   "cell_type": "code",
   "execution_count": null,
   "id": "8a0823ae-6731-48fb-be57-9460663ae3ba",
   "metadata": {},
   "outputs": [],
   "source": []
  }
 ],
 "metadata": {
  "kernelspec": {
   "display_name": "machine_learning_mastery",
   "language": "python",
   "name": "machine_learning_mastery"
  },
  "language_info": {
   "codemirror_mode": {
    "name": "ipython",
    "version": 3
   },
   "file_extension": ".py",
   "mimetype": "text/x-python",
   "name": "python",
   "nbconvert_exporter": "python",
   "pygments_lexer": "ipython3",
   "version": "3.9.8"
  }
 },
 "nbformat": 4,
 "nbformat_minor": 5
}
