{
 "cells": [
  {
   "cell_type": "markdown",
   "id": "e2e53bb5-d27d-476e-9f2f-e9bc8f2bd46c",
   "metadata": {},
   "source": [
    "# Chapter 22 - More Predictive Modeling Projects\n",
    "\n",
    "- You can start to build your own code base with your own recipes\n",
    "- The larger and more sophisticated your catalog of recipes the fater and more acurate your models will be trained\n",
    "- You must build your own mature and highly-tailored catalog of ML code\n",
    "\n",
    "Sources for Datasets:\n",
    "- [UCI Machine Learning Repository](http://archive.ics.uci.edu/ml/) - focus on 5-10 hours of effort\n",
    "- Write up your findings and publish them onas part of your portfoio on ML maybe in github.\n",
    "- [Kaggle](https://www.kaggle.com) - for competitive ML \n",
    "- organisers provide you with Training dataset and test dataset\n",
    "- Winners can get prize money\n",
    "- Often require lots of cleaning and preparation\n",
    "- categorised as research, recruitment, and 101 for beginners"
   ]
  },
  {
   "cell_type": "markdown",
   "id": "3a9d7bdf-c074-40de-8a31-492859c26654",
   "metadata": {},
   "source": [
    "--------\n",
    "# Chapter 24 - More Help\n",
    "- documentation for Python and SciPy is execllent\n",
    "- read API documentation for the classes and functions \n",
    "- [Google Python Class](https://developers.google.com/edu/python/)\n",
    "- Python HOWTOs, invaluable for learning idioms and such (Python 3). https://docs.python.org/3/howto/index.html\n",
    "- Python Standard Library Reference (Python 3). https://docs.python.org/3/library/index.html\n",
    "\n",
    "SciPy and Numpy:\n",
    "- SciPy Lecture Notes.\n",
    "     http://www.scipy-lectures.org/\n",
    "- NumPy User Guide. http://docs.scipy.org/doc/numpy/user/\n",
    "\n",
    "Matplotlib:\n",
    "- Matplotlib gallery of plot types and sample code. http://matplotlib.org/gallery.html\n",
    "- Matplotlib Beginners Guide. http://matplotlib.org/users/beginner.html\n",
    "- Matplotlib API Reference. http://matplotlib.org/api/index.html\n",
    "\n",
    "Pandas:\n",
    "- Pandas documentation page (user guide). Note the table of contents of the left hand side, it’s very extensive.\n",
    "http://pandas.pydata.org/pandas-docs/stable/\n",
    "- Pandas cookbook providing many short and sweet examples. http://pandas.pydata.org/pandas-docs/stable/cookbook.html\n",
    "- Pandas API Reference. http://pandas.pydata.org/pandas-docs/stable/api.html\n",
    "\n",
    "SciKit-Learn:\n",
    "- The scikit-learn API Reference. http://scikit-learn.org/stable/modules/classes.html\n",
    "- The scikit-learn User Guide. http://scikit-learn.org/stable/user_guide.html\n",
    "- The scikit-learn Example Gallery. http://scikit-learn.org/stable/auto_examples/index.html"
   ]
  },
  {
   "cell_type": "code",
   "execution_count": null,
   "id": "8eb9bf26-d3da-44d4-9ec4-d0b5b1099454",
   "metadata": {},
   "outputs": [],
   "source": []
  }
 ],
 "metadata": {
  "kernelspec": {
   "display_name": "machine_learning_mastery",
   "language": "python",
   "name": "machine_learning_mastery"
  },
  "language_info": {
   "codemirror_mode": {
    "name": "ipython",
    "version": 3
   },
   "file_extension": ".py",
   "mimetype": "text/x-python",
   "name": "python",
   "nbconvert_exporter": "python",
   "pygments_lexer": "ipython3",
   "version": "3.9.8"
  }
 },
 "nbformat": 4,
 "nbformat_minor": 5
}
