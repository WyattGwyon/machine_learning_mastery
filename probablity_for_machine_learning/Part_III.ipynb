{
 "cells": [
  {
   "cell_type": "markdown",
   "id": "745a3caf-f64e-42bc-9975-5da88d3a41ff",
   "metadata": {},
   "source": [
    "Chapter 4 - Joint, Marginal, and Conditional Probability"
   ]
  },
  {
   "cell_type": "code",
   "execution_count": 8,
   "id": "c62e3e18-c696-4200-97c6-d51b36648e77",
   "metadata": {},
   "outputs": [
    {
     "name": "stdout",
     "output_type": "stream",
     "text": [
      "n=2, 364/365, p=99.726 1-p=0.274\n",
      "n=3, 363/365, p=99.180 1-p=0.820\n",
      "n=4, 362/365, p=98.364 1-p=1.636\n",
      "n=5, 361/365, p=97.286 1-p=2.714\n",
      "n=6, 360/365, p=95.954 1-p=4.046\n",
      "n=7, 359/365, p=94.376 1-p=5.624\n",
      "n=8, 358/365, p=92.566 1-p=7.434\n",
      "n=9, 357/365, p=90.538 1-p=9.462\n",
      "n=10, 356/365, p=88.305 1-p=11.695\n",
      "n=11, 355/365, p=85.886 1-p=14.114\n",
      "n=12, 354/365, p=83.298 1-p=16.702\n",
      "n=13, 353/365, p=80.559 1-p=19.441\n",
      "n=14, 352/365, p=77.690 1-p=22.310\n",
      "n=15, 351/365, p=74.710 1-p=25.290\n",
      "n=16, 350/365, p=71.640 1-p=28.360\n",
      "n=17, 349/365, p=68.499 1-p=31.501\n",
      "n=18, 348/365, p=65.309 1-p=34.691\n",
      "n=19, 347/365, p=62.088 1-p=37.912\n",
      "n=20, 346/365, p=58.856 1-p=41.144\n",
      "n=21, 345/365, p=55.631 1-p=44.369\n",
      "n=22, 344/365, p=52.430 1-p=47.570\n",
      "n=23, 343/365, p=49.270 1-p=50.730\n",
      "n=24, 342/365, p=46.166 1-p=53.834\n",
      "n=25, 341/365, p=43.130 1-p=56.870\n",
      "n=26, 340/365, p=40.176 1-p=59.824\n",
      "n=27, 339/365, p=37.314 1-p=62.686\n",
      "n=28, 338/365, p=34.554 1-p=65.446\n",
      "n=29, 337/365, p=31.903 1-p=68.097\n",
      "n=30, 336/365, p=29.368 1-p=70.632\n"
     ]
    }
   ],
   "source": [
    "# example of the birthday problem\n",
    "# define maximum group size\n",
    "n = 30\n",
    "# number of days in the year\n",
    "days = 365\n",
    "# calculate probability for different group sizes\n",
    "p = 1.0\n",
    "for i in range(1, n):\n",
    "    av = days - i\n",
    "    p *= av / days\n",
    "    print('n=%d, %d/%d, p=%.3f 1-p=%.3f' % (i+1, av, days, p*100, (1-p)*100))"
   ]
  },
  {
   "cell_type": "code",
   "execution_count": null,
   "id": "e179ceaa-6fa2-44a8-95f4-0b73e9dab99c",
   "metadata": {},
   "outputs": [],
   "source": []
  }
 ],
 "metadata": {
  "kernelspec": {
   "display_name": "machine_learning_mastery",
   "language": "python",
   "name": "machine_learning_mastery"
  },
  "language_info": {
   "codemirror_mode": {
    "name": "ipython",
    "version": 3
   },
   "file_extension": ".py",
   "mimetype": "text/x-python",
   "name": "python",
   "nbconvert_exporter": "python",
   "pygments_lexer": "ipython3",
   "version": "3.9.8"
  }
 },
 "nbformat": 4,
 "nbformat_minor": 5
}
